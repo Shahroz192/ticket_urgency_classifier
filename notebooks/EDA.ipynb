{
 "cells": [
  {
   "cell_type": "markdown",
   "id": "0",
   "metadata": {},
   "source": [
    "### 3.1 Exploratory Data Analysis (EDA)\n",
    "Now that we have engineered some basic features, let's visualize the data distributions."
   ]
  },
  {
   "cell_type": "code",
   "execution_count": null,
   "id": "1",
   "metadata": {},
   "outputs": [],
   "source": [
    "import seaborn as sns"
   ]
  },
  {
   "cell_type": "code",
   "execution_count": null,
   "id": "2",
   "metadata": {},
   "outputs": [],
   "source": [
    "sns.set_style('whitegrid')"
   ]
  },
  {
   "cell_type": "code",
   "execution_count": null,
   "id": "3",
   "metadata": {},
   "outputs": [],
   "source": [
    "sns.set_style('whitegrid')\n",
    "# Visualize distributions of key categorical features\n",
    "fig, axes = plt.subplots(2, 2, figsize=(18, 12))\n",
    "fig.suptitle('Distributions of Categorical and Target Variables', fontsize=16)\n",
    "# Target Variable: Priority\n",
    "sns.countplot(ax=axes[0, 0], data=df, x='priority', order=df['priority'].value_counts().index)\n",
    "axes[0, 0].set_title('Ticket Priority Distribution')\n",
    "# Queue\n",
    "sns.countplot(ax=axes[0, 1], data=df, y='queue', order=df['queue'].value_counts().index)\n",
    "axes[0, 1].set_title('Ticket Distribution by Queue')\n",
    "\n",
    "# Language\n",
    "sns.countplot(ax=axes[1, 0], data=df, y='language', order=df['language'].value_counts().index)\n",
    "axes[1, 0].set_title('Ticket Distribution by Language')\n",
    "# Type\n",
    "sns.countplot(ax=axes[1, 1], data=df, y='type', order=df['type'].value_counts().index)\n",
    "axes[1, 1].set_title('Ticket Distribution by Type')\n",
    "plt.tight_layout(rect=[0, 0.03, 1, 0.95])\n",
    "plt.show()"
   ]
  },
  {
   "cell_type": "code",
   "execution_count": null,
   "id": "4",
   "metadata": {},
   "outputs": [],
   "source": [
    "# Visualize distributions of engineered numerical features and their relation to Priority,\n",
    "numerical_features = ['word_count', 'sentiment_score', 'exclamation_count', 'question_mark_count']\n",
    "priority_order = ['Low', 'Medium', 'High'] \n",
    "\n",
    "# Set a logical order for plots    \n",
    "fig, axes = plt.subplots(len(numerical_features), 2, figsize=(16, 15))\n",
    "fig.suptitle('Analysis of Engineered Numerical Features', fontsize=16)\n",
    "    \n",
    "for i, feature in enumerate(numerical_features):\n",
    "    sns.histplot(ax=axes[i, 0], data=df, x=feature, bins=30, kde=True)\n",
    "    axes[i, 0].set_title(f'Distribution of {feature}')\n",
    "        \n",
    "    # Plot boxplot of the feature vs. priority,\n",
    "    sns.boxplot(ax=axes[i, 1], data=df, x='priority', y=feature, order=priority_order)\n",
    "    axes[i, 1].set_title(f'{feature} vs. Priority')\n",
    "    if feature == 'word_count': # Cap word count y-axis for better visualization,\n",
    "        axes[i, 1].set_ylim(0, 400)\n",
    "    \n",
    "    plt.tight_layout(rect=[0, 0.03, 1, 0.95])\n",
    "    plt.show()"
   ]
  }
 ],
 "metadata": {
  "kernelspec": {
   "display_name": ".venv",
   "language": "python",
   "name": "python3"
  },
  "language_info": {
   "codemirror_mode": {
    "name": "ipython",
    "version": 3
   },
   "file_extension": ".py",
   "mimetype": "text/x-python",
   "name": "python",
   "nbconvert_exporter": "python",
   "pygments_lexer": "ipython3",
   "version": "3.10.12"
  }
 },
 "nbformat": 4,
 "nbformat_minor": 5
}
